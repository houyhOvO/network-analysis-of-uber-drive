{
 "cells": [
  {
   "cell_type": "code",
   "execution_count": 1,
   "id": "832f7048-dbc4-43f7-a3ab-36f00b707416",
   "metadata": {},
   "outputs": [],
   "source": [
    "import pandas as pd\n",
    "import networkx as nx"
   ]
  },
  {
   "cell_type": "code",
   "execution_count": 5,
   "id": "683ecc75-b295-4f1c-b808-f4c5de6fe48d",
   "metadata": {},
   "outputs": [
    {
     "data": {
      "text/html": [
       "<div>\n",
       "<style scoped>\n",
       "    .dataframe tbody tr th:only-of-type {\n",
       "        vertical-align: middle;\n",
       "    }\n",
       "\n",
       "    .dataframe tbody tr th {\n",
       "        vertical-align: top;\n",
       "    }\n",
       "\n",
       "    .dataframe thead th {\n",
       "        text-align: right;\n",
       "    }\n",
       "</style>\n",
       "<table border=\"1\" class=\"dataframe\">\n",
       "  <thead>\n",
       "    <tr style=\"text-align: right;\">\n",
       "      <th></th>\n",
       "      <th>START_DATE*</th>\n",
       "      <th>END_DATE*</th>\n",
       "      <th>CATEGORY*</th>\n",
       "      <th>START*</th>\n",
       "      <th>STOP*</th>\n",
       "      <th>MILES*</th>\n",
       "      <th>PURPOSE*</th>\n",
       "    </tr>\n",
       "  </thead>\n",
       "  <tbody>\n",
       "    <tr>\n",
       "      <th>0</th>\n",
       "      <td>1/1/2016 21:11</td>\n",
       "      <td>1/1/2016 21:17</td>\n",
       "      <td>Business</td>\n",
       "      <td>Fort Pierce</td>\n",
       "      <td>Fort Pierce</td>\n",
       "      <td>5.1</td>\n",
       "      <td>Meal/Entertain</td>\n",
       "    </tr>\n",
       "    <tr>\n",
       "      <th>1</th>\n",
       "      <td>1/2/2016 1:25</td>\n",
       "      <td>1/2/2016 1:37</td>\n",
       "      <td>Business</td>\n",
       "      <td>Fort Pierce</td>\n",
       "      <td>Fort Pierce</td>\n",
       "      <td>5.0</td>\n",
       "      <td>NaN</td>\n",
       "    </tr>\n",
       "    <tr>\n",
       "      <th>2</th>\n",
       "      <td>1/2/2016 20:25</td>\n",
       "      <td>1/2/2016 20:38</td>\n",
       "      <td>Business</td>\n",
       "      <td>Fort Pierce</td>\n",
       "      <td>Fort Pierce</td>\n",
       "      <td>4.8</td>\n",
       "      <td>Errand/Supplies</td>\n",
       "    </tr>\n",
       "    <tr>\n",
       "      <th>3</th>\n",
       "      <td>1/5/2016 17:31</td>\n",
       "      <td>1/5/2016 17:45</td>\n",
       "      <td>Business</td>\n",
       "      <td>Fort Pierce</td>\n",
       "      <td>Fort Pierce</td>\n",
       "      <td>4.7</td>\n",
       "      <td>Meeting</td>\n",
       "    </tr>\n",
       "    <tr>\n",
       "      <th>4</th>\n",
       "      <td>1/6/2016 14:42</td>\n",
       "      <td>1/6/2016 15:49</td>\n",
       "      <td>Business</td>\n",
       "      <td>Fort Pierce</td>\n",
       "      <td>West Palm Beach</td>\n",
       "      <td>63.7</td>\n",
       "      <td>Customer Visit</td>\n",
       "    </tr>\n",
       "  </tbody>\n",
       "</table>\n",
       "</div>"
      ],
      "text/plain": [
       "      START_DATE*       END_DATE* CATEGORY*       START*            STOP*  \\\n",
       "0  1/1/2016 21:11  1/1/2016 21:17  Business  Fort Pierce      Fort Pierce   \n",
       "1   1/2/2016 1:25   1/2/2016 1:37  Business  Fort Pierce      Fort Pierce   \n",
       "2  1/2/2016 20:25  1/2/2016 20:38  Business  Fort Pierce      Fort Pierce   \n",
       "3  1/5/2016 17:31  1/5/2016 17:45  Business  Fort Pierce      Fort Pierce   \n",
       "4  1/6/2016 14:42  1/6/2016 15:49  Business  Fort Pierce  West Palm Beach   \n",
       "\n",
       "   MILES*         PURPOSE*  \n",
       "0     5.1   Meal/Entertain  \n",
       "1     5.0              NaN  \n",
       "2     4.8  Errand/Supplies  \n",
       "3     4.7          Meeting  \n",
       "4    63.7   Customer Visit  "
      ]
     },
     "execution_count": 5,
     "metadata": {},
     "output_type": "execute_result"
    }
   ],
   "source": [
    "data = pd.read_csv('uber_drive_data.csv')\n",
    "data = data.drop(data.index[len(data)-1])  # Remove unnecessary summary information\n",
    "data.head()"
   ]
  },
  {
   "cell_type": "code",
   "execution_count": null,
   "id": "b5e0f93d-c134-4848-96ed-49e650336899",
   "metadata": {},
   "outputs": [],
   "source": []
  }
 ],
 "metadata": {
  "kernelspec": {
   "display_name": "Python 3 (ipykernel)",
   "language": "python",
   "name": "python3"
  },
  "language_info": {
   "codemirror_mode": {
    "name": "ipython",
    "version": 3
   },
   "file_extension": ".py",
   "mimetype": "text/x-python",
   "name": "python",
   "nbconvert_exporter": "python",
   "pygments_lexer": "ipython3",
   "version": "3.9.18"
  }
 },
 "nbformat": 4,
 "nbformat_minor": 5
}
